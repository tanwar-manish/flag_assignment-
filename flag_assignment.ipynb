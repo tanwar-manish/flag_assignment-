{
 "cells": [
  {
   "cell_type": "code",
   "execution_count": 1,
   "id": "95f6f844",
   "metadata": {},
   "outputs": [],
   "source": [
    "import pandas as pd\n",
    "\n",
    "def apply_flag_logic(df):\n",
    "    df['EVENTTIME'] = pd.to_datetime(df['EVENTTIME'], errors='coerce')\n",
    "    \n",
    "    df = df.sort_values(by=['Case Number', 'EVENTTIME'])\n",
    "    flag_list = [0] * len(df)\n",
    "    \n",
    "    call_start_indices = []\n",
    "    \n",
    "    for i in range(len(df)):\n",
    "        if df.iloc[i]['ACTIVITY_EN'] == 'Call Session Start':\n",
    "            call_start_indices.append(i)\n",
    "            \n",
    "            if len(call_start_indices) >= 2:\n",
    "                idx1 = call_start_indices[-2]  \n",
    "                idx2 = call_start_indices[-1] \n",
    "                \n",
    "                if (idx1 + 3 < len(df) and\n",
    "                    df.iloc[idx1 + 1]['ACTIVITY_EN'] == 'Create Work Order' and\n",
    "                    df.iloc[idx1 + 2]['ACTIVITY_EN'] == 'Email Outbound' and\n",
    "                    df.iloc[idx1 + 3]['ACTIVITY_EN'] == 'Call Session Start'):\n",
    "\n",
    "                    flag_list[idx2] = 0\n",
    "                else:\n",
    "                    flag_list[idx2] = 1\n",
    "                \n",
    "    df['Flag'] = flag_list\n",
    "    \n",
    "    return df\n",
    "\n",
    "\n",
    "df = pd.read_excel(\"C:/Users/hp-13/Downloads/Sample_celonis_data.xlsx\")\n",
    "df = apply_flag_logic(df)\n",
    "df.to_csv('output_file.csv', index=False)  \n"
   ]
  },
  {
   "cell_type": "code",
   "execution_count": null,
   "id": "4faf27a4",
   "metadata": {},
   "outputs": [],
   "source": []
  }
 ],
 "metadata": {
  "kernelspec": {
   "display_name": "Python 3 (ipykernel)",
   "language": "python",
   "name": "python3"
  },
  "language_info": {
   "codemirror_mode": {
    "name": "ipython",
    "version": 3
   },
   "file_extension": ".py",
   "mimetype": "text/x-python",
   "name": "python",
   "nbconvert_exporter": "python",
   "pygments_lexer": "ipython3",
   "version": "3.9.13"
  }
 },
 "nbformat": 4,
 "nbformat_minor": 5
}
